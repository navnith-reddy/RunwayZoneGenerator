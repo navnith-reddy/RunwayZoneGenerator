{
 "cells": [
  {
   "cell_type": "code",
   "execution_count": 9,
   "metadata": {},
   "outputs": [
    {
     "data": {
      "text/html": [
       "<div>\n",
       "<style scoped>\n",
       "    .dataframe tbody tr th:only-of-type {\n",
       "        vertical-align: middle;\n",
       "    }\n",
       "\n",
       "    .dataframe tbody tr th {\n",
       "        vertical-align: top;\n",
       "    }\n",
       "\n",
       "    .dataframe thead th {\n",
       "        text-align: right;\n",
       "    }\n",
       "</style>\n",
       "<table border=\"1\" class=\"dataframe\">\n",
       "  <thead>\n",
       "    <tr style=\"text-align: right;\">\n",
       "      <th></th>\n",
       "      <th>NAME</th>\n",
       "      <th>geometry</th>\n",
       "    </tr>\n",
       "  </thead>\n",
       "  <tbody>\n",
       "    <tr>\n",
       "      <th>0</th>\n",
       "      <td>HERVEY BAY AERODROME</td>\n",
       "      <td>LINESTRING (17019436.162 -2915603.032, 1701799...</td>\n",
       "    </tr>\n",
       "    <tr>\n",
       "      <th>1</th>\n",
       "      <td>HERVEY BAY AERODROME</td>\n",
       "      <td>LINESTRING (17019436.162 -2915603.032, 1701799...</td>\n",
       "    </tr>\n",
       "    <tr>\n",
       "      <th>2</th>\n",
       "      <td>MARYBOROUGH AIRPORT</td>\n",
       "      <td>LINESTRING (17000555.262 -2939311.867, 1700006...</td>\n",
       "    </tr>\n",
       "    <tr>\n",
       "      <th>3</th>\n",
       "      <td>MARYBOROUGH AIRPORT</td>\n",
       "      <td>LINESTRING (17000063.230 -2938923.317, 1699978...</td>\n",
       "    </tr>\n",
       "    <tr>\n",
       "      <th>4</th>\n",
       "      <td>MARYBOROUGH AIRPORT</td>\n",
       "      <td>LINESTRING (17000063.230 -2938923.317, 1699993...</td>\n",
       "    </tr>\n",
       "    <tr>\n",
       "      <th>...</th>\n",
       "      <td>...</td>\n",
       "      <td>...</td>\n",
       "    </tr>\n",
       "    <tr>\n",
       "      <th>585</th>\n",
       "      <td>FORREST AERODROME</td>\n",
       "      <td>LINESTRING (14261533.917 -3612866.068, 1426152...</td>\n",
       "    </tr>\n",
       "    <tr>\n",
       "      <th>586</th>\n",
       "      <td>FORREST AERODROME</td>\n",
       "      <td>LINESTRING (14261527.238 -3611605.826, 1426152...</td>\n",
       "    </tr>\n",
       "    <tr>\n",
       "      <th>587</th>\n",
       "      <td>FORREST AERODROME</td>\n",
       "      <td>LINESTRING (14261158.771 -3611583.785, 1426152...</td>\n",
       "    </tr>\n",
       "    <tr>\n",
       "      <th>588</th>\n",
       "      <td>FORREST AERODROME</td>\n",
       "      <td>LINESTRING (14261527.238 -3611605.826, 1426276...</td>\n",
       "    </tr>\n",
       "    <tr>\n",
       "      <th>589</th>\n",
       "      <td>TELFER AERODROME</td>\n",
       "      <td>LINESTRING (13605708.550 -2476810.528, 1360753...</td>\n",
       "    </tr>\n",
       "  </tbody>\n",
       "</table>\n",
       "<p>590 rows × 2 columns</p>\n",
       "</div>"
      ],
      "text/plain": [
       "                     NAME                                           geometry\n",
       "0    HERVEY BAY AERODROME  LINESTRING (17019436.162 -2915603.032, 1701799...\n",
       "1    HERVEY BAY AERODROME  LINESTRING (17019436.162 -2915603.032, 1701799...\n",
       "2     MARYBOROUGH AIRPORT  LINESTRING (17000555.262 -2939311.867, 1700006...\n",
       "3     MARYBOROUGH AIRPORT  LINESTRING (17000063.230 -2938923.317, 1699978...\n",
       "4     MARYBOROUGH AIRPORT  LINESTRING (17000063.230 -2938923.317, 1699993...\n",
       "..                    ...                                                ...\n",
       "585     FORREST AERODROME  LINESTRING (14261533.917 -3612866.068, 1426152...\n",
       "586     FORREST AERODROME  LINESTRING (14261527.238 -3611605.826, 1426152...\n",
       "587     FORREST AERODROME  LINESTRING (14261158.771 -3611583.785, 1426152...\n",
       "588     FORREST AERODROME  LINESTRING (14261527.238 -3611605.826, 1426276...\n",
       "589      TELFER AERODROME  LINESTRING (13605708.550 -2476810.528, 1360753...\n",
       "\n",
       "[590 rows x 2 columns]"
      ]
     },
     "execution_count": 9,
     "metadata": {},
     "output_type": "execute_result"
    }
   ],
   "source": [
    "import GEODATA as gd\n",
    "\n",
    "runways = gd.readRunways()\n",
    "runways"
   ]
  },
  {
   "cell_type": "code",
   "execution_count": null,
   "metadata": {},
   "outputs": [],
   "source": [
    "runways.explore()"
   ]
  }
 ],
 "metadata": {
  "kernelspec": {
   "display_name": "Python 3.10.2 64-bit",
   "language": "python",
   "name": "python3"
  },
  "language_info": {
   "codemirror_mode": {
    "name": "ipython",
    "version": 3
   },
   "file_extension": ".py",
   "mimetype": "text/x-python",
   "name": "python",
   "nbconvert_exporter": "python",
   "pygments_lexer": "ipython3",
   "version": "3.10.2"
  },
  "orig_nbformat": 4,
  "vscode": {
   "interpreter": {
    "hash": "f3b1cddd90e041739cc508b511777643b291f5d1b3dc05751cb59eb7093c1b3d"
   }
  }
 },
 "nbformat": 4,
 "nbformat_minor": 2
}
