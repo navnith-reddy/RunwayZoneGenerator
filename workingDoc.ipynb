{
 "cells": [
  {
   "cell_type": "code",
   "execution_count": 9,
   "metadata": {},
   "outputs": [
    {
     "data": {
      "text/html": [
       "<div>\n",
       "<style scoped>\n",
       "    .dataframe tbody tr th:only-of-type {\n",
       "        vertical-align: middle;\n",
       "    }\n",
       "\n",
       "    .dataframe tbody tr th {\n",
       "        vertical-align: top;\n",
       "    }\n",
       "\n",
       "    .dataframe thead th {\n",
       "        text-align: right;\n",
       "    }\n",
       "</style>\n",
       "<table border=\"1\" class=\"dataframe\">\n",
       "  <thead>\n",
       "    <tr style=\"text-align: right;\">\n",
       "      <th></th>\n",
       "      <th>NAME</th>\n",
       "      <th>geometry</th>\n",
       "    </tr>\n",
       "  </thead>\n",
       "  <tbody>\n",
       "    <tr>\n",
       "      <th>0</th>\n",
       "      <td>HERVEY BAY AERODROME</td>\n",
       "      <td>LINESTRING (17019436.162 -2915603.032, 1701799...</td>\n",
       "    </tr>\n",
       "    <tr>\n",
       "      <th>1</th>\n",
       "      <td>HERVEY BAY AERODROME</td>\n",
       "      <td>LINESTRING (17019436.162 -2915603.032, 1701799...</td>\n",
       "    </tr>\n",
       "    <tr>\n",
       "      <th>2</th>\n",
       "      <td>MARYBOROUGH AIRPORT</td>\n",
       "      <td>LINESTRING (17000555.262 -2939311.867, 1700006...</td>\n",
       "    </tr>\n",
       "    <tr>\n",
       "      <th>3</th>\n",
       "      <td>MARYBOROUGH AIRPORT</td>\n",
       "      <td>LINESTRING (17000063.230 -2938923.317, 1699978...</td>\n",
       "    </tr>\n",
       "    <tr>\n",
       "      <th>4</th>\n",
       "      <td>MARYBOROUGH AIRPORT</td>\n",
       "      <td>LINESTRING (17000063.230 -2938923.317, 1699993...</td>\n",
       "    </tr>\n",
       "    <tr>\n",
       "      <th>...</th>\n",
       "      <td>...</td>\n",
       "      <td>...</td>\n",
       "    </tr>\n",
       "    <tr>\n",
       "      <th>585</th>\n",
       "      <td>FORREST AERODROME</td>\n",
       "      <td>LINESTRING (14261533.917 -3612866.068, 1426152...</td>\n",
       "    </tr>\n",
       "    <tr>\n",
       "      <th>586</th>\n",
       "      <td>FORREST AERODROME</td>\n",
       "      <td>LINESTRING (14261527.238 -3611605.826, 1426152...</td>\n",
       "    </tr>\n",
       "    <tr>\n",
       "      <th>587</th>\n",
       "      <td>FORREST AERODROME</td>\n",
       "      <td>LINESTRING (14261158.771 -3611583.785, 1426152...</td>\n",
       "    </tr>\n",
       "    <tr>\n",
       "      <th>588</th>\n",
       "      <td>FORREST AERODROME</td>\n",
       "      <td>LINESTRING (14261527.238 -3611605.826, 1426276...</td>\n",
       "    </tr>\n",
       "    <tr>\n",
       "      <th>589</th>\n",
       "      <td>TELFER AERODROME</td>\n",
       "      <td>LINESTRING (13605708.550 -2476810.528, 1360753...</td>\n",
       "    </tr>\n",
       "  </tbody>\n",
       "</table>\n",
       "<p>590 rows × 2 columns</p>\n",
       "</div>"
      ],
      "text/plain": [
       "                     NAME                                           geometry\n",
       "0    HERVEY BAY AERODROME  LINESTRING (17019436.162 -2915603.032, 1701799...\n",
       "1    HERVEY BAY AERODROME  LINESTRING (17019436.162 -2915603.032, 1701799...\n",
       "2     MARYBOROUGH AIRPORT  LINESTRING (17000555.262 -2939311.867, 1700006...\n",
       "3     MARYBOROUGH AIRPORT  LINESTRING (17000063.230 -2938923.317, 1699978...\n",
       "4     MARYBOROUGH AIRPORT  LINESTRING (17000063.230 -2938923.317, 1699993...\n",
       "..                    ...                                                ...\n",
       "585     FORREST AERODROME  LINESTRING (14261533.917 -3612866.068, 1426152...\n",
       "586     FORREST AERODROME  LINESTRING (14261527.238 -3611605.826, 1426152...\n",
       "587     FORREST AERODROME  LINESTRING (14261158.771 -3611583.785, 1426152...\n",
       "588     FORREST AERODROME  LINESTRING (14261527.238 -3611605.826, 1426276...\n",
       "589      TELFER AERODROME  LINESTRING (13605708.550 -2476810.528, 1360753...\n",
       "\n",
       "[590 rows x 2 columns]"
      ]
     },
     "execution_count": 9,
     "metadata": {},
     "output_type": "execute_result"
    }
   ],
   "source": [
    "import GEODATA as gd\n",
    "\n",
    "runways = gd.readRunways()\n",
    "runways"
   ]
  },
  {
   "cell_type": "code",
   "execution_count": 14,
   "metadata": {},
   "outputs": [
    {
     "data": {
      "text/html": [
       "<div>\n",
       "<style scoped>\n",
       "    .dataframe tbody tr th:only-of-type {\n",
       "        vertical-align: middle;\n",
       "    }\n",
       "\n",
       "    .dataframe tbody tr th {\n",
       "        vertical-align: top;\n",
       "    }\n",
       "\n",
       "    .dataframe thead th {\n",
       "        text-align: right;\n",
       "    }\n",
       "</style>\n",
       "<table border=\"1\" class=\"dataframe\">\n",
       "  <thead>\n",
       "    <tr style=\"text-align: right;\">\n",
       "      <th></th>\n",
       "      <th>NAME</th>\n",
       "      <th>geometry</th>\n",
       "    </tr>\n",
       "  </thead>\n",
       "  <tbody>\n",
       "    <tr>\n",
       "      <th>0</th>\n",
       "      <td>SYDNEY AIRPORT</td>\n",
       "      <td>LINESTRING (16830197.381 -4022025.447, 1683081...</td>\n",
       "    </tr>\n",
       "    <tr>\n",
       "      <th>1</th>\n",
       "      <td>SYDNEY AIRPORT</td>\n",
       "      <td>LINESTRING (16828271.555 -4019070.836, 1682868...</td>\n",
       "    </tr>\n",
       "    <tr>\n",
       "      <th>2</th>\n",
       "      <td>SYDNEY AIRPORT</td>\n",
       "      <td>LINESTRING (16828682.323 -4020875.447, 1682947...</td>\n",
       "    </tr>\n",
       "    <tr>\n",
       "      <th>3</th>\n",
       "      <td>SYDNEY AIRPORT</td>\n",
       "      <td>LINESTRING (16830355.455 -4020392.401, 1682868...</td>\n",
       "    </tr>\n",
       "    <tr>\n",
       "      <th>4</th>\n",
       "      <td>SYDNEY AIRPORT</td>\n",
       "      <td>LINESTRING (16828682.323 -4020875.447, 1682743...</td>\n",
       "    </tr>\n",
       "  </tbody>\n",
       "</table>\n",
       "</div>"
      ],
      "text/plain": [
       "             NAME                                           geometry\n",
       "0  SYDNEY AIRPORT  LINESTRING (16830197.381 -4022025.447, 1683081...\n",
       "1  SYDNEY AIRPORT  LINESTRING (16828271.555 -4019070.836, 1682868...\n",
       "2  SYDNEY AIRPORT  LINESTRING (16828682.323 -4020875.447, 1682947...\n",
       "3  SYDNEY AIRPORT  LINESTRING (16830355.455 -4020392.401, 1682868...\n",
       "4  SYDNEY AIRPORT  LINESTRING (16828682.323 -4020875.447, 1682743..."
      ]
     },
     "execution_count": 14,
     "metadata": {},
     "output_type": "execute_result"
    }
   ],
   "source": [
    "# Draw Exclusion zone\n",
    "sydney = runways.loc[runways['NAME'] == 'SYDNEY AIRPORT']\n",
    "sydney.reset_index(drop=True, inplace=True)\n",
    "sydney"
   ]
  },
  {
   "cell_type": "code",
   "execution_count": 45,
   "metadata": {},
   "outputs": [],
   "source": [
    "from shapely.geometry import LineString\n",
    "\n",
    "def perpendicular(lineString, len, side):\n",
    "    \n",
    "    left = lineString.parallel_offset(len, 'left')\n",
    "    right = lineString.parallel_offset(len, 'right')\n",
    "    \n",
    "    if (side == 'top'):\n",
    "        \n",
    "        leftEnd = left.boundary[1]\n",
    "        rightEnd = right.boundary[0]\n",
    "        return LineString([leftEnd, rightEnd])\n",
    "    \n",
    "    elif (side == 'bottom'):\n",
    "        \n",
    "        leftEnd = left.boundary[0]\n",
    "        rightEnd = right.boundary[1]\n",
    "        return LineString([leftEnd, rightEnd])\n",
    "    \n",
    "    else:\n",
    "        \n",
    "        raise ValueError(\"Invalid value for side\")\n",
    "    \n",
    "\n",
    "lineString = sydney.at[0, 'geometry']\n",
    "coords = list(lineString.coords)\n",
    "b_len = 2890\n",
    "c_len = 1760\n",
    "d_len = 5310\n",
    "e_len = 680\n",
    "\n",
    "# Determine line\n",
    "rise = (coords[1][1] - coords[0][1])\n",
    "run = (coords[1][0] - coords[0][0])\n",
    "if (rise == 0):\n",
    "    \n",
    "    # Horizontal line\n",
    "    top = lineString.parallel_offset(c_len, 'left')\n",
    "    bottom = lineString.parallel_offset(c_len, 'right')\n",
    "    right = perpendicular(lineString, c_len, top)\n",
    "    right = right.buffer(b_len, single_sided=True)\n",
    "    left = perpendicular(lineString, c_len, bottom)\n",
    "    left = left.buffer(-b_len, single_sided=True)\n",
    "    \n",
    "elif (run == 0):\n",
    "    \n",
    "    # Vertical line\n",
    "    left = lineString.parallel_offset(c_len, 'left')\n",
    "    right = lineString.parallel_offset(c_len, 'right')\n",
    "    top = perpendicular(lineString, c_len, 'top')\n",
    "    top = top.buffer(b_len, single_sided=True)\n",
    "    bottom = perpendicular(lineString, c_len, 'bottom')\n",
    "    bottom = left.buffer(-b_len, single_sided=True)\n",
    "    \n",
    "\n",
    "else:\n",
    "    \n",
    "    # Line with slope\n",
    "    grad = rise / run\n",
    "    b = (coords[0][1]) - (grad * coords[0][0])\n",
    "    y = grad*x + b"
   ]
  },
  {
   "cell_type": "code",
   "execution_count": 74,
   "metadata": {},
   "outputs": [
    {
     "name": "stderr",
     "output_type": "stream",
     "text": [
      "C:\\Users\\navni\\AppData\\Local\\Temp\\ipykernel_10896\\1794126882.py:10: ShapelyDeprecationWarning: __getitem__ for multi-part geometries is deprecated and will be removed in Shapely 2.0. Use the `geoms` property to access the constituent parts of a multi-part geometry.\n",
      "  leftEnd = left.boundary[1]\n",
      "C:\\Users\\navni\\AppData\\Local\\Temp\\ipykernel_10896\\1794126882.py:11: ShapelyDeprecationWarning: __getitem__ for multi-part geometries is deprecated and will be removed in Shapely 2.0. Use the `geoms` property to access the constituent parts of a multi-part geometry.\n",
      "  rightEnd = right.boundary[0]\n",
      "C:\\Users\\navni\\AppData\\Local\\Temp\\ipykernel_10896\\1794126882.py:16: ShapelyDeprecationWarning: __getitem__ for multi-part geometries is deprecated and will be removed in Shapely 2.0. Use the `geoms` property to access the constituent parts of a multi-part geometry.\n",
      "  leftEnd = left.boundary[0]\n",
      "C:\\Users\\navni\\AppData\\Local\\Temp\\ipykernel_10896\\1794126882.py:17: ShapelyDeprecationWarning: __getitem__ for multi-part geometries is deprecated and will be removed in Shapely 2.0. Use the `geoms` property to access the constituent parts of a multi-part geometry.\n",
      "  rightEnd = right.boundary[1]\n"
     ]
    },
    {
     "data": {
      "image/png": "[encoded data removed]",
      "text/plain": [
       "<Figure size 432x288 with 1 Axes>"
      ]
     },
     "metadata": {
      "needs_background": "light"
     },
     "output_type": "display_data"
    }
   ],
   "source": [
    "from shapely.geometry import LineString\n",
    "from shapely.geometry import MultiLineString\n",
    "from shapely.geometry import Polygon\n",
    "import matplotlib.pyplot as plt\n",
    "\n",
    "lineString = LineString([(16830197.38110897, -4022025.447476781), (16839816.317067254, -4022025.447476781)])\n",
    "\n",
    "b_len = 2890\n",
    "c_len = 1760\n",
    "d_len = 5310\n",
    "e_len = 680\n",
    "\n",
    "# Horizontal line\n",
    "top = lineString.parallel_offset(c_len, 'left')\n",
    "bottom = lineString.parallel_offset(c_len, 'right')\n",
    "mid = top.buffer(-2*c_len, single_sided=True)\n",
    "right = perpendicular(lineString, c_len, 'top')\n",
    "right = right.buffer(b_len, single_sided=True)\n",
    "left = perpendicular(lineString, c_len, 'bottom')\n",
    "left = left.buffer(-b_len, single_sided=True)\n",
    "\n",
    "plt.plot(*left.exterior.xy, label='left')\n",
    "plt.plot(*right.exterior.xy, label='right')\n",
    "#plt.plot(*top.xy, label='top')\n",
    "#plt.plot(*bottom.xy, label='bottom')\n",
    "plt.plot(*mid.exterior.xy)\n",
    "plt.legend(loc='upper left')\n",
    "plt.show()"
   ]
  },
  {
   "cell_type": "code",
   "execution_count": 57,
   "metadata": {},
   "outputs": [
    {
     "name": "stderr",
     "output_type": "stream",
     "text": [
      "C:\\Users\\navni\\AppData\\Local\\Temp\\ipykernel_10896\\1794126882.py:10: ShapelyDeprecationWarning: __getitem__ for multi-part geometries is deprecated and will be removed in Shapely 2.0. Use the `geoms` property to access the constituent parts of a multi-part geometry.\n",
      "  leftEnd = left.boundary[1]\n",
      "C:\\Users\\navni\\AppData\\Local\\Temp\\ipykernel_10896\\1794126882.py:11: ShapelyDeprecationWarning: __getitem__ for multi-part geometries is deprecated and will be removed in Shapely 2.0. Use the `geoms` property to access the constituent parts of a multi-part geometry.\n",
      "  rightEnd = right.boundary[0]\n",
      "C:\\Users\\navni\\AppData\\Local\\Temp\\ipykernel_10896\\1794126882.py:16: ShapelyDeprecationWarning: __getitem__ for multi-part geometries is deprecated and will be removed in Shapely 2.0. Use the `geoms` property to access the constituent parts of a multi-part geometry.\n",
      "  leftEnd = left.boundary[0]\n",
      "C:\\Users\\navni\\AppData\\Local\\Temp\\ipykernel_10896\\1794126882.py:17: ShapelyDeprecationWarning: __getitem__ for multi-part geometries is deprecated and will be removed in Shapely 2.0. Use the `geoms` property to access the constituent parts of a multi-part geometry.\n",
      "  rightEnd = right.boundary[1]\n"
     ]
    },
    {
     "ename": "AttributeError",
     "evalue": "'LineString' object has no attribute 'exterior'",
     "output_type": "error",
     "traceback": [
      "\u001b[1;31m---------------------------------------------------------------------------\u001b[0m",
      "\u001b[1;31mAttributeError\u001b[0m                            Traceback (most recent call last)",
      "\u001b[1;32m~\\AppData\\Local\\Temp\\ipykernel_10896\\3929970548.py\u001b[0m in \u001b[0;36m<cell line: 18>\u001b[1;34m()\u001b[0m\n\u001b[0;32m     16\u001b[0m \u001b[0mplt\u001b[0m\u001b[1;33m.\u001b[0m\u001b[0mplot\u001b[0m\u001b[1;33m(\u001b[0m\u001b[1;33m*\u001b[0m\u001b[0mtop\u001b[0m\u001b[1;33m.\u001b[0m\u001b[0mexterior\u001b[0m\u001b[1;33m.\u001b[0m\u001b[0mxy\u001b[0m\u001b[1;33m)\u001b[0m\u001b[1;33m\u001b[0m\u001b[1;33m\u001b[0m\u001b[0m\n\u001b[0;32m     17\u001b[0m \u001b[0mplt\u001b[0m\u001b[1;33m.\u001b[0m\u001b[0mplot\u001b[0m\u001b[1;33m(\u001b[0m\u001b[1;33m*\u001b[0m\u001b[0mbottom\u001b[0m\u001b[1;33m.\u001b[0m\u001b[0mexterior\u001b[0m\u001b[1;33m.\u001b[0m\u001b[0mxy\u001b[0m\u001b[1;33m)\u001b[0m\u001b[1;33m\u001b[0m\u001b[1;33m\u001b[0m\u001b[0m\n\u001b[1;32m---> 18\u001b[1;33m \u001b[0mplt\u001b[0m\u001b[1;33m.\u001b[0m\u001b[0mplot\u001b[0m\u001b[1;33m(\u001b[0m\u001b[1;33m*\u001b[0m\u001b[0mleft\u001b[0m\u001b[1;33m.\u001b[0m\u001b[0mexterior\u001b[0m\u001b[1;33m.\u001b[0m\u001b[0mxy\u001b[0m\u001b[1;33m)\u001b[0m\u001b[1;33m\u001b[0m\u001b[1;33m\u001b[0m\u001b[0m\n\u001b[0m\u001b[0;32m     19\u001b[0m \u001b[0mplt\u001b[0m\u001b[1;33m.\u001b[0m\u001b[0mplot\u001b[0m\u001b[1;33m(\u001b[0m\u001b[1;33m*\u001b[0m\u001b[0mright\u001b[0m\u001b[1;33m.\u001b[0m\u001b[0mexterior\u001b[0m\u001b[1;33m.\u001b[0m\u001b[0mxy\u001b[0m\u001b[1;33m)\u001b[0m\u001b[1;33m\u001b[0m\u001b[1;33m\u001b[0m\u001b[0m\n\u001b[0;32m     20\u001b[0m \u001b[0mplt\u001b[0m\u001b[1;33m.\u001b[0m\u001b[0mshow\u001b[0m\u001b[1;33m(\u001b[0m\u001b[1;33m)\u001b[0m\u001b[1;33m\u001b[0m\u001b[1;33m\u001b[0m\u001b[0m\n",
      "\u001b[1;31mAttributeError\u001b[0m: 'LineString' object has no attribute 'exterior'"
     ]
    },
    {
     "data": {
      "image/png": "[encoded data removed]",
      "text/plain": [
       "<Figure size 432x288 with 1 Axes>"
      ]
     },
     "metadata": {
      "needs_background": "light"
     },
     "output_type": "display_data"
    }
   ],
   "source": [
    "lineString = LineString([(16839816.317067254, -4023025.447476781), (16839816.317067254, -4022025.447476781)])\n",
    "\n",
    "b_len = 2890\n",
    "c_len = 1760\n",
    "d_len = 5310\n",
    "e_len = 680\n",
    "\n",
    "# Horizontal line\n",
    "left = lineString.parallel_offset(c_len, 'left')\n",
    "right = lineString.parallel_offset(c_len, 'right')\n",
    "top = perpendicular(lineString, c_len, 'top')\n",
    "top = top.buffer(b_len, single_sided=True)\n",
    "bottom = perpendicular(lineString, c_len, 'bottom')\n",
    "bottom = left.buffer(-b_len, single_sided=True)\n",
    "\n",
    "plt.plot(*top.exterior.xy)\n",
    "plt.plot(*bottom.exterior.xy)\n",
    "plt.plot(*left.exterior.xy)\n",
    "plt.plot(*right.exterior.xy)\n",
    "plt.show()"
   ]
  },
  {
   "cell_type": "code",
   "execution_count": null,
   "metadata": {},
   "outputs": [],
   "source": []
  }
 ],
 "metadata": {
  "kernelspec": {
   "display_name": "Python 3.10.2 64-bit",
   "language": "python",
   "name": "python3"
  },
  "language_info": {
   "codemirror_mode": {
    "name": "ipython",
    "version": 3
   },
   "file_extension": ".py",
   "mimetype": "text/x-python",
   "name": "python",
   "nbconvert_exporter": "python",
   "pygments_lexer": "ipython3",
   "version": "3.10.2"
  },
  "orig_nbformat": 4,
  "vscode": {
   "interpreter": {
    "hash": "f3b1cddd90e041739cc508b511777643b291f5d1b3dc05751cb59eb7093c1b3d"
   }
  }
 },
 "nbformat": 4,
 "nbformat_minor": 2
}
