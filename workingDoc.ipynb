{
 "cells": [
  {
   "cell_type": "code",
   "execution_count": 28,
   "metadata": {},
   "outputs": [],
   "source": [
    "import geopandas as gpd\n",
    "import pandas as pd\n",
    "import matplotlib.pyplot as plt\n",
    "\n",
    "# Read centreline dataset\n",
    "centrelines = gpd.read_file(\"TOPO_250k/Vector_data/Cartography/cartographiclines.shp\")\n",
    "centrelines = centrelines.loc[centrelines['FEATTYPE'] == 'Runway Centreline']\n",
    "centrelines.reset_index(drop=True, inplace=True)\n",
    "centrelines.to_file('centrelines/centrelines.shp')\n",
    "centrelines.to_csv('centreline_data.csv', index=False)\n",
    "\n",
    "# Read airport data\n",
    "airports = gpd.read_file(\"TOPO_250k/Vector_data/Transport/aircraftfacilitypoints.shp\")\n",
    "airports = airports.loc[airports['FEATTYPE'] == 'Airport']\n",
    "airports.reset_index(drop=True, inplace=True)\n",
    "airports.to_file('airports/airports.shp')\n",
    "airports.to_csv('airports_data.csv', index=False)\n"
   ]
  },
  {
   "cell_type": "code",
   "execution_count": null,
   "metadata": {},
   "outputs": [],
   "source": []
  }
 ],
 "metadata": {
  "kernelspec": {
   "display_name": "Python 3.10.2 64-bit",
   "language": "python",
   "name": "python3"
  },
  "language_info": {
   "codemirror_mode": {
    "name": "ipython",
    "version": 3
   },
   "file_extension": ".py",
   "mimetype": "text/x-python",
   "name": "python",
   "nbconvert_exporter": "python",
   "pygments_lexer": "ipython3",
   "version": "3.10.2"
  },
  "orig_nbformat": 4,
  "vscode": {
   "interpreter": {
    "hash": "f3b1cddd90e041739cc508b511777643b291f5d1b3dc05751cb59eb7093c1b3d"
   }
  }
 },
 "nbformat": 4,
 "nbformat_minor": 2
}
